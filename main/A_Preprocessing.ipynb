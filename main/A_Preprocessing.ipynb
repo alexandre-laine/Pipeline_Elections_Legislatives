{
 "cells": [
  {
   "cell_type": "code",
   "execution_count": 1,
   "metadata": {},
   "outputs": [
    {
     "data": {
      "text/plain": [
       "\"\\nauteur:Alexandre\\ndate:2024/09/03\\n\\nPreprocessing des données pur les rendre utilisable par l'algorithme de machine learning\\n\""
      ]
     },
     "execution_count": 1,
     "metadata": {},
     "output_type": "execute_result"
    }
   ],
   "source": [
    "\"\"\"\n",
    "auteur:Alexandre\n",
    "date:2024/09/03\n",
    "\n",
    "Preprocessing des données pur les rendre utilisable par l'algorithme de machine learning\n",
    "\"\"\""
   ]
  },
  {
   "cell_type": "markdown",
   "metadata": {},
   "source": [
    "# **Preprocessing des données**"
   ]
  },
  {
   "cell_type": "code",
   "execution_count": 2,
   "metadata": {},
   "outputs": [],
   "source": [
    "import preprocessing as pp\n",
    "import params as prm\n",
    "import numpy as np"
   ]
  },
  {
   "cell_type": "code",
   "execution_count": 3,
   "metadata": {},
   "outputs": [],
   "source": [
    "data_1 = pp.load_data(file_name=f\"{prm.dataset_1er_tour}.csv\")\n",
    "data_2 = pp.load_data(file_name=f\"{prm.dataset_2nd_tour}.csv\")"
   ]
  },
  {
   "cell_type": "code",
   "execution_count": 4,
   "metadata": {},
   "outputs": [
    {
     "name": "stdout",
     "output_type": "stream",
     "text": [
      "Loading the already preprocessed dataset !\n",
      "Loading the already preprocessed dataset !\n"
     ]
    }
   ],
   "source": [
    "df_1, encodeur = pp.prepare(data_1, name=prm.dataset_1er_tour, encodeur=None)\n",
    "df_2, encodeur = pp.prepare(data_2, name=prm.dataset_2nd_tour, encodeur=encodeur)"
   ]
  },
  {
   "cell_type": "code",
   "execution_count": 5,
   "metadata": {},
   "outputs": [
    {
     "name": "stdout",
     "output_type": "stream",
     "text": [
      "The cleaning phase has already been completed !\n"
     ]
    }
   ],
   "source": [
    "df_1f, df_2f = pp.clear(\n",
    "    df_1, df_2, \n",
    "    name1=prm.dataset_1er_tour, \n",
    "    name2=prm.dataset_2nd_tour\n",
    ")"
   ]
  },
  {
   "cell_type": "code",
   "execution_count": 6,
   "metadata": {},
   "outputs": [
    {
     "name": "stdout",
     "output_type": "stream",
     "text": [
      "Last updated: 2024-09-03T18:51:05.986758+02:00\n",
      "\n",
      "Python implementation: CPython\n",
      "Python version       : 3.11.9\n",
      "IPython version      : 8.24.0\n",
      "\n",
      "Compiler    : MSC v.1938 64 bit (AMD64)\n",
      "OS          : Windows\n",
      "Release     : 10\n",
      "Machine     : AMD64\n",
      "Processor   : AMD64 Family 25 Model 116 Stepping 1, AuthenticAMD\n",
      "CPU cores   : 16\n",
      "Architecture: 64bit\n",
      "\n"
     ]
    }
   ],
   "source": [
    "prm.WaTer()"
   ]
  }
 ],
 "metadata": {
  "kernelspec": {
   "display_name": "Python 3",
   "language": "python",
   "name": "python3"
  },
  "language_info": {
   "codemirror_mode": {
    "name": "ipython",
    "version": 3
   },
   "file_extension": ".py",
   "mimetype": "text/x-python",
   "name": "python",
   "nbconvert_exporter": "python",
   "pygments_lexer": "ipython3",
   "version": "3.11.9"
  }
 },
 "nbformat": 4,
 "nbformat_minor": 2
}
